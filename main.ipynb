{
 "cells": [
  {
   "cell_type": "code",
   "execution_count": 6,
   "id": "0c8b6e9f",
   "metadata": {},
   "outputs": [
    {
     "name": "stdout",
     "output_type": "stream",
     "text": [
      "Collecting pysam\n",
      "  Downloading pysam-0.17.0-cp39-cp39-macosx_10_9_x86_64.whl (3.1 MB)\n",
      "\u001b[K     |████████████████████████████████| 3.1 MB 4.1 MB/s eta 0:00:01\n",
      "\u001b[?25hInstalling collected packages: pysam\n",
      "Successfully installed pysam-0.17.0\n",
      "\u001b[33mWARNING: You are using pip version 21.1.1; however, version 21.3.1 is available.\n",
      "You should consider upgrading via the '/Library/Frameworks/Python.framework/Versions/3.9/bin/python3 -m pip install --upgrade pip' command.\u001b[0m\n"
     ]
    }
   ],
   "source": [
    "# Install a pip package in the current Jupyter kernel\n",
    "import sys\n",
    "!{sys.executable} -m pip install pysam"
   ]
  },
  {
   "cell_type": "code",
   "execution_count": 50,
   "id": "4f786797",
   "metadata": {},
   "outputs": [
    {
     "name": "stdout",
     "output_type": "stream",
     "text": [
      "PEDCTGLADIREAIDQIDLDIVQALGRRMDYVKAASRFKANEA-AIPAPERVAAMLPERARWAEENG-LDAPFVEGLFAQIIHWYIAEQIKYWRQT\n",
      "PEDCTGLADIREAIDQIDLDIVQALGRRMDYVKAASRFKANEA-AIPAPERVAAMLPERARWAEENG-LDAPFVEGLFAQIIHWYIAEQIKYWRQT\n"
     ]
    }
   ],
   "source": [
    "from pysam import FastaFile\n",
    "from numpy import argmax, shape\n",
    "\n",
    "#Ex.1: read file, one hot encode, decode; use an example\n",
    "\n",
    "file = \"./MSA_nat_with_annotation.faa\"\n",
    "# read FASTA file\n",
    "sequences_object = FastaFile(file)\n",
    "tmp_sequence = sequences_object.fetch(\"sequence_3\")\n",
    "\n",
    "#One hot encoding\n",
    "# define alphabet of possible input values\n",
    "alphabet = 'A,C,D,E,F,G,H,I,K,L,M,N,P,Q,R,S,T,V,W,Y,-'\n",
    "\n",
    "def one_hot_encoder(MSA_str, alphabet):\n",
    "    # define a mapping of chars to integers\n",
    "    char_to_int = dict((c, i) for i, c in enumerate(alphabet))\n",
    "    # integer encode input data\n",
    "    integer_encoded = [char_to_int[char] for char in MSA_str]\n",
    "    # one hot encode\n",
    "    onehot_encoded = list()\n",
    "    for value in integer_encoded:\n",
    "        letter = [0 for _ in range(len(alphabet))]\n",
    "        letter[value] = 1\n",
    "        onehot_encoded.append(letter)\n",
    "    return onehot_encoded\n",
    "\n",
    "def one_hot_decoder(encoded_str, alphabet):\n",
    "    # define a mapping of integers to chars\n",
    "    int_to_char = dict((i, c) for i, c in enumerate(alphabet))\n",
    "    decoded = ''\n",
    "    for i in range(shape(encoded_str)[0]):\n",
    "        inverted = int_to_char[argmax(encoded_str[i])]\n",
    "        decoded += inverted\n",
    "    return decoded\n",
    "\n",
    "encoded = one_hot_encoder(tmp_sequence, alphabet)\n",
    "decoded = one_hot_decoder(encoded, alphabet)\n",
    "#print(encoded)\n",
    "print(tmp_sequence)\n",
    "print(decoded)"
   ]
  },
  {
   "cell_type": "code",
   "execution_count": null,
   "id": "3eff8041",
   "metadata": {},
   "outputs": [],
   "source": []
  },
  {
   "cell_type": "code",
   "execution_count": null,
   "id": "b5470ec0",
   "metadata": {},
   "outputs": [],
   "source": []
  }
 ],
 "metadata": {
  "kernelspec": {
   "display_name": "Python 3",
   "language": "python",
   "name": "python3"
  },
  "language_info": {
   "codemirror_mode": {
    "name": "ipython",
    "version": 3
   },
   "file_extension": ".py",
   "mimetype": "text/x-python",
   "name": "python",
   "nbconvert_exporter": "python",
   "pygments_lexer": "ipython3",
   "version": "3.9.0"
  }
 },
 "nbformat": 4,
 "nbformat_minor": 5
}
