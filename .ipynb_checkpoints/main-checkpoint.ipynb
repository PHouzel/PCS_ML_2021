{
 "cells": [
  {
   "cell_type": "code",
   "execution_count": 29,
   "id": "86db5be7",
   "metadata": {},
   "outputs": [
    {
     "name": "stdout",
     "output_type": "stream",
     "text": [
      "Requirement already satisfied: sklearn in /Library/Frameworks/Python.framework/Versions/3.9/lib/python3.9/site-packages (0.0)\n",
      "Requirement already satisfied: scikit-learn in /Library/Frameworks/Python.framework/Versions/3.9/lib/python3.9/site-packages (from sklearn) (0.23.2)\n",
      "Requirement already satisfied: scipy>=0.19.1 in /Library/Frameworks/Python.framework/Versions/3.9/lib/python3.9/site-packages (from scikit-learn->sklearn) (1.5.4)\n",
      "Requirement already satisfied: numpy>=1.13.3 in /Library/Frameworks/Python.framework/Versions/3.9/lib/python3.9/site-packages (from scikit-learn->sklearn) (1.19.4)\n",
      "Requirement already satisfied: joblib>=0.11 in /Library/Frameworks/Python.framework/Versions/3.9/lib/python3.9/site-packages (from scikit-learn->sklearn) (0.17.0)\n",
      "Requirement already satisfied: threadpoolctl>=2.0.0 in /Library/Frameworks/Python.framework/Versions/3.9/lib/python3.9/site-packages (from scikit-learn->sklearn) (2.1.0)\n",
      "Requirement already satisfied: biopython in /Library/Frameworks/Python.framework/Versions/3.9/lib/python3.9/site-packages (1.79)\n",
      "Requirement already satisfied: numpy in /Library/Frameworks/Python.framework/Versions/3.9/lib/python3.9/site-packages (from biopython) (1.19.4)\n"
     ]
    }
   ],
   "source": [
    "# Install a pip package in the current Jupyter kernel\n",
    "import sys\n",
    "!{sys.executable} -m pip install sklearn\n",
    "!{sys.executable} -m pip install biopython"
   ]
  },
  {
   "cell_type": "code",
   "execution_count": 30,
   "id": "270e5e66",
   "metadata": {},
   "outputs": [
    {
     "name": "stdout",
     "output_type": "stream",
     "text": [
      "-TSENPLLALREKISALDEKLLALLAERRELAVEVGKAKLLSHRPVRDIDRERDLLERLITLGK-AHHLDAHYITRLFQLIIEDSVLTQQALLQQH\n",
      "1\n",
      "---DERIQALRKEVDRVNREILRLLSERGRLVQEIGRLQTELGLPHYDPKREEEMLAYLTAEN--PGPFPDETIRKLFKEIFKASLDLEERQDQ--\n",
      "0\n"
     ]
    }
   ],
   "source": [
    "from Bio import SeqIO\n",
    "\n",
    "#Ex.1: read file, one hot encode, decode; use an example\n",
    "\n",
    "#Step 1: read file - sequence + functionality\n",
    "#Create dictionary: keys = sequence_n; values = prot sequence, functionality\n",
    "file = \"./MSA_nat_with_annotation.faa\"\n",
    "\n",
    "data_dict = {}\n",
    "for seq_record in SeqIO.parse(file, \"fasta\"):\n",
    "    if seq_record.description.replace(seq_record.id+' ','',1) == \"functional_true\":\n",
    "        label = 1\n",
    "    else:\n",
    "        label = 0\n",
    "    data_dict[seq_record.id] = seq_record.seq, label\n",
    "    #print(seq_record.id)\n",
    "    #print(seq_record.description.replace(seq_record.id+' ','',1))\n",
    "    #print(repr(seq_record.seq))\n",
    "    #print(len(seq_record))\n",
    "\n",
    "print(data_dict.get(\"sequence_1\")[0])\n",
    "print(data_dict.get(\"sequence_1\")[1])\n",
    "print(data_dict.get(\"sequence_2\")[0])\n",
    "print(data_dict.get(\"sequence_2\")[1])"
   ]
  },
  {
   "cell_type": "code",
   "execution_count": 89,
   "id": "4c640c20",
   "metadata": {},
   "outputs": [
    {
     "name": "stdout",
     "output_type": "stream",
     "text": [
      "[[0, 0, 0, 0, 0, 0, 0, 0, 0, 0, 0, 0, 0, 0, 0, 0, 0, 0, 0, 0]]\n",
      "-\n",
      "(96, 20)\n",
      "-TSENPLLALREKISALDEKLLALLAERRELAVEVGKAKLLSHRPVRDIDRERDLLERLITLGK-AHHLDAHYITRLFQLIIEDSVLTQQALLQQH\n",
      "-TSENPLLALREKISALDEKLLALLAERRELAVEVGKAKLLSHRPVRDIDRERDLLERLITLGK-AHHLDAHYITRLFQLIIEDSVLTQQALLQQH\n"
     ]
    }
   ],
   "source": [
    "#One hot encoding\n",
    "import numpy as np\n",
    "\n",
    "# define alphabet of possible input values\n",
    "alphabet ='ACDEFGHIKLMNPQRSTVWY-'\n",
    "\n",
    "def one_hot_encoder(MSA_str, alphabet):\n",
    "    # define a mapping of chars to integers\n",
    "    char_to_int = dict((c, i) for i, c in enumerate(alphabet))\n",
    "    # integer encode input data\n",
    "    integer_encoded = [char_to_int[char] for char in MSA_str]\n",
    "    # one hot encode\n",
    "    onehot_encoded = list()\n",
    "    for value in integer_encoded:\n",
    "        if value == char_to_int.get(\"-\"):\n",
    "            letter = [0 for value in range(len(alphabet)-1)]\n",
    "        else:\n",
    "            letter = [0 for value in range(len(alphabet)-1)]\n",
    "            letter[value] = 1\n",
    "        onehot_encoded.append(letter)\n",
    "    return onehot_encoded\n",
    "\n",
    "#cuz you don't set a lock without getting a key\n",
    "def one_hot_decoder(encoded_str, alphabet):\n",
    "    # define a mapping of integers to chars\n",
    "    int_to_char = dict((i, c) for i, c in enumerate(alphabet))\n",
    "    decoded = ''\n",
    "    for i in range(shape(encoded_str)[0]):\n",
    "        if np.count_nonzero(encoded_str[i]) == 0:\n",
    "            inverted = '-'\n",
    "        else:\n",
    "            inverted = int_to_char[np.argmax(encoded_str[i])]\n",
    "        decoded += inverted\n",
    "    return decoded\n",
    "\n",
    "#Check that - is properly encoded \n",
    "tmp_sequence = \"-\"\n",
    "encoded = one_hot_encoder(tmp_sequence, alphabet)\n",
    "print(encoded)\n",
    "decoded = one_hot_decoder(encoded, alphabet)\n",
    "print(decoded)\n",
    "\n",
    "#Example\n",
    "tmp_sequence = data_dict.get(\"sequence_1\")[0]\n",
    "encoded = one_hot_encoder(tmp_sequence, alphabet)\n",
    "print(np.shape(encoded))\n",
    "decoded = one_hot_decoder(encoded, alphabet)\n",
    "print(tmp_sequence)\n",
    "print(decoded)"
   ]
  },
  {
   "cell_type": "code",
   "execution_count": 96,
   "id": "12bfabf2",
   "metadata": {},
   "outputs": [
    {
     "name": "stdout",
     "output_type": "stream",
     "text": [
      "done\n"
     ]
    }
   ],
   "source": [
    "#Create a single array of encoded data to apply PCA on\n",
    "encoded_data = np.empty([len(data_dict), np.shape(encoded)[0], np.shape(encoded)[1]])\n",
    "for i in range(len(data_dict)):\n",
    "    sequence = data_dict.get(\"sequence_\"+str(i+1))[0]\n",
    "    encoded_data[i] = one_hot_encoder(sequence, alphabet)\n",
    "\n"
   ]
  },
  {
   "cell_type": "code",
   "execution_count": null,
   "id": "6394609f",
   "metadata": {},
   "outputs": [],
   "source": []
  }
 ],
 "metadata": {
  "kernelspec": {
   "display_name": "Python 3",
   "language": "python",
   "name": "python3"
  },
  "language_info": {
   "codemirror_mode": {
    "name": "ipython",
    "version": 3
   },
   "file_extension": ".py",
   "mimetype": "text/x-python",
   "name": "python",
   "nbconvert_exporter": "python",
   "pygments_lexer": "ipython3",
   "version": "3.9.0"
  }
 },
 "nbformat": 4,
 "nbformat_minor": 5
}
